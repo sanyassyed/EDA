{
 "cells": [
  {
   "cell_type": "markdown",
   "metadata": {},
   "source": [
    "Exploratory Analysis For Uber Dataset\n",
    "#pip install package_name\n",
    "#pip freeze"
   ]
  },
  {
   "cell_type": "code",
   "execution_count": 1,
   "metadata": {},
   "outputs": [],
   "source": [
    "# importing basic packages\n",
    "import numpy as np\n",
    "import pandas as pd\n",
    "import os"
   ]
  },
  {
   "cell_type": "code",
   "execution_count": 2,
   "metadata": {},
   "outputs": [],
   "source": [
    "# Setting the directory paths\n",
    "WORKING_DIR = os.getcwd()\n",
    "data_file_name = 'Uber_Data.csv'\n",
    "DATA_DIR = 'data'\n",
    "DATA = os.path.join(WORKING_DIR, DATA_DIR, data_file_name)"
   ]
  },
  {
   "cell_type": "code",
   "execution_count": 3,
   "metadata": {},
   "outputs": [],
   "source": [
    "# Loading the dataset and making a copy\n",
    "df_orig = pd.read_csv(DATA)\n",
    "df = df_orig"
   ]
  },
  {
   "cell_type": "code",
   "execution_count": 8,
   "metadata": {
    "tags": [
     "full-width"
    ]
   },
   "outputs": [
    {
     "name": "stdout",
     "output_type": "stream",
     "text": [
      "          pickup_dt    borough  pickups  spd   vsb  temp  dewp     slp  pcp01  \\\n",
      "0  01-01-2015 01:00      Bronx      152  5.0  10.0  30.0   7.0  1023.5    0.0   \n",
      "1  01-01-2015 01:00   Brooklyn     1519  5.0  10.0   NaN   7.0  1023.5    0.0   \n",
      "2  01-01-2015 01:00        EWR        0  5.0  10.0  30.0   7.0  1023.5    0.0   \n",
      "3  01-01-2015 01:00  Manhattan     5258  5.0  10.0  30.0   7.0  1023.5    0.0   \n",
      "4  01-01-2015 01:00     Queens      405  5.0  10.0  30.0   7.0  1023.5    0.0   \n",
      "\n",
      "   pcp06  pcp24   sd hday  \n",
      "0    0.0    0.0  0.0    Y  \n",
      "1    0.0    0.0  0.0    Y  \n",
      "2    0.0    0.0  0.0    Y  \n",
      "3    0.0    0.0  0.0    Y  \n",
      "4    0.0    0.0  0.0    Y  \n"
     ]
    }
   ],
   "source": [
    "# look at top 5 observations\n",
    "print(df.head())"
   ]
  },
  {
   "cell_type": "markdown",
   "metadata": {},
   "source": [
    "The \n",
    "* `pickup_dt column` consists of date and time of pickup\n",
    "* `borough column` contains the names of the boroughs in New York where pickup was made\n",
    "* `pickups` is the number of pickups done in the given borough for the given time\n",
    "* `spd`, `vsb`, `temp`, `dewp`, `slp` and other columns are weather related data\n",
    "* `hday` represents if the day was a holiday or not [Y: Holiday, N: Not a holiday]\n"
   ]
  },
  {
   "cell_type": "code",
   "execution_count": 9,
   "metadata": {},
   "outputs": [
    {
     "name": "stdout",
     "output_type": "stream",
     "text": [
      "Total Rows: 29101\n",
      "Total Columns/Features: 13\n"
     ]
    }
   ],
   "source": [
    "#Checking the rows and columns\n",
    "rows, columns = df.shape\n",
    "print(f'Total Rows: {rows}')\n",
    "print(f'Total Columns/Features: {columns}')"
   ]
  },
  {
   "cell_type": "code",
   "execution_count": 10,
   "metadata": {},
   "outputs": [
    {
     "name": "stdout",
     "output_type": "stream",
     "text": [
      "<class 'pandas.core.frame.DataFrame'>\n",
      "RangeIndex: 29101 entries, 0 to 29100\n",
      "Data columns (total 13 columns):\n",
      " #   Column     Non-Null Count  Dtype  \n",
      "---  ------     --------------  -----  \n",
      " 0   pickup_dt  29101 non-null  object \n",
      " 1   borough    26058 non-null  object \n",
      " 2   pickups    29101 non-null  int64  \n",
      " 3   spd        29101 non-null  float64\n",
      " 4   vsb        29101 non-null  float64\n",
      " 5   temp       28742 non-null  float64\n",
      " 6   dewp       29101 non-null  float64\n",
      " 7   slp        29101 non-null  float64\n",
      " 8   pcp01      29101 non-null  float64\n",
      " 9   pcp06      29101 non-null  float64\n",
      " 10  pcp24      29101 non-null  float64\n",
      " 11  sd         29101 non-null  float64\n",
      " 12  hday       29101 non-null  object \n",
      "dtypes: float64(9), int64(1), object(3)\n",
      "memory usage: 2.9+ MB\n",
      "None\n"
     ]
    }
   ],
   "source": [
    "# look at column details\n",
    "print(df.info())"
   ]
  },
  {
   "cell_type": "markdown",
   "metadata": {},
   "source": [
    "The dataset consists of 10 numerical columns, three object columns\n",
    "The column `pickup_dt` data type should be chaged to date-time format\n",
    "The columns `borough` & `hday` data type should be changed to categorical\n",
    "Each column has 29101 observations and some columns are missing data - `borough` and `temp`"
   ]
  },
  {
   "cell_type": "code",
   "execution_count": 11,
   "metadata": {},
   "outputs": [
    {
     "name": "stdout",
     "output_type": "stream",
     "text": [
      "           count         mean         std    min     25%     50%          75%  \\\n",
      "pickups  29101.0   490.215903  995.649536    0.0     1.0    54.0   449.000000   \n",
      "spd      29101.0     5.984924    3.699007    0.0     3.0     6.0     8.000000   \n",
      "vsb      29101.0     8.818125    2.442897    0.0     9.1    10.0    10.000000   \n",
      "temp     28742.0    47.900019   19.798783    2.0    32.0    46.5    65.000000   \n",
      "dewp     29101.0    30.823065   21.283444  -16.0    14.0    30.0    50.000000   \n",
      "slp      29101.0  1017.817938    7.768796  991.4  1012.5  1018.2  1022.900000   \n",
      "pcp01    29101.0     0.003830    0.018933    0.0     0.0     0.0     0.000000   \n",
      "pcp06    29101.0     0.026129    0.093125    0.0     0.0     0.0     0.000000   \n",
      "pcp24    29101.0     0.090464    0.219402    0.0     0.0     0.0     0.050000   \n",
      "sd       29101.0     2.529169    4.520325    0.0     0.0     0.0     2.958333   \n",
      "\n",
      "             max  \n",
      "pickups  7883.00  \n",
      "spd        21.00  \n",
      "vsb        10.00  \n",
      "temp       89.00  \n",
      "dewp       73.00  \n",
      "slp      1043.40  \n",
      "pcp01       0.28  \n",
      "pcp06       1.24  \n",
      "pcp24       2.10  \n",
      "sd         19.00  \n"
     ]
    }
   ],
   "source": [
    "# Statistical summary\n",
    "print(df.describe().T)"
   ]
  },
  {
   "cell_type": "markdown",
   "metadata": {},
   "source": [
    "In the `pickup_dt` & `sd` column the 3rd and max value difference is large\n",
    "The temp data range is wide hence the data covers different weather ranges / seasons\n"
   ]
  },
  {
   "cell_type": "code",
   "execution_count": 12,
   "metadata": {},
   "outputs": [
    {
     "name": "stdout",
     "output_type": "stream",
     "text": [
      "['Bronx' 'Brooklyn' 'EWR' 'Manhattan' 'Queens' 'Staten Island' nan]\n",
      "Bronx            4343\n",
      "Brooklyn         4343\n",
      "EWR              4343\n",
      "Manhattan        4343\n",
      "Queens           4343\n",
      "Staten Island    4343\n",
      "Name: borough, dtype: int64\n"
     ]
    }
   ],
   "source": [
    "# Looking at unique categories in columns\n",
    "print(df['borough'].unique())\n",
    "print(df['borough'].value_counts())"
   ]
  },
  {
   "cell_type": "markdown",
   "metadata": {},
   "source": [
    "There are six boroughs in the dataset and there are equal number of samples for each type"
   ]
  },
  {
   "cell_type": "code",
   "execution_count": 13,
   "metadata": {},
   "outputs": [
    {
     "name": "stdout",
     "output_type": "stream",
     "text": [
      "N    0.961479\n",
      "Y    0.038521\n",
      "Name: hday, dtype: float64\n"
     ]
    }
   ],
   "source": [
    "# Label Distribution in %\n",
    "print(df['hday'].value_counts(normalize=True))"
   ]
  },
  {
   "cell_type": "markdown",
   "metadata": {},
   "source": [
    "Over 96% of the data has the label N\n",
    "And .03% of data has label Y as the number of holidays in a year are few"
   ]
  },
  {
   "cell_type": "code",
   "execution_count": 14,
   "metadata": {},
   "outputs": [],
   "source": [
    "# Change datatype of `pickup_dt` column to date-time format\n",
    "df['pickup_dt'] = pd.to_datetime(df['pickup_dt'],format= \"%d-%m-%Y %H:%M\")"
   ]
  },
  {
   "cell_type": "code",
   "execution_count": 15,
   "metadata": {},
   "outputs": [
    {
     "name": "stdout",
     "output_type": "stream",
     "text": [
      "Data type of pickup_dts column is: datetime64[ns]\n"
     ]
    }
   ],
   "source": [
    "# Cheking the updated datatype of the pickup_dt column\n",
    "print(f\"Data type of pickup_dts column is: {df.dtypes['pickup_dt']}\")"
   ]
  },
  {
   "cell_type": "code",
   "execution_count": 16,
   "metadata": {},
   "outputs": [
    {
     "data": {
      "text/plain": [
       "Timestamp('2015-01-01 01:00:00')"
      ]
     },
     "execution_count": 16,
     "metadata": {},
     "output_type": "execute_result"
    }
   ],
   "source": [
    "# Exploring date column\n",
    "# Earliest date\n",
    "df['pickup_dt'].min()"
   ]
  },
  {
   "cell_type": "code",
   "execution_count": 17,
   "metadata": {},
   "outputs": [
    {
     "data": {
      "text/plain": [
       "Timestamp('2015-06-30 23:00:00')"
      ]
     },
     "execution_count": 17,
     "metadata": {},
     "output_type": "execute_result"
    }
   ],
   "source": [
    "# Latest date\n",
    "df['pickup_dt'].max()"
   ]
  },
  {
   "cell_type": "markdown",
   "metadata": {},
   "source": [
    "The dataset contains data over six months starting January 1st to June 30th for the year 2015 which is the Winter and Spring season hence the temp column has the range of 2F to 89F"
   ]
  },
  {
   "cell_type": "code",
   "execution_count": 20,
   "metadata": {},
   "outputs": [],
   "source": [
    "# Extracting the seperate information from the pickup_dt column\n",
    "df['start_year'] =  df['pickup_dt'].dt.year\n",
    "df['start_month'] = df['pickup_dt'].dt.month_name()\n",
    "df['start_day'] = df['pickup_dt'].dt.day\n",
    "df['week_day'] = df['pickup_dt'].dt.day_name()\n",
    "df['start_hour'] = df['pickup_dt'].dt.hour"
   ]
  },
  {
   "cell_type": "code",
   "execution_count": 21,
   "metadata": {},
   "outputs": [],
   "source": [
    "# Deleting the pickup_dt column to avoid duplication\n",
    "df.drop('pickup_dt', axis=1, inplace=True)"
   ]
  },
  {
   "cell_type": "code",
   "execution_count": 24,
   "metadata": {},
   "outputs": [
    {
     "name": "stdout",
     "output_type": "stream",
     "text": [
      "Index(['borough', 'pickups', 'spd', 'vsb', 'temp', 'dewp', 'slp', 'pcp01',\n",
      "       'pcp06', 'pcp24', 'sd', 'hday', 'start_year', 'start_month',\n",
      "       'start_day', 'week_day', 'start_hour'],\n",
      "      dtype='object')\n"
     ]
    },
    {
     "data": {
      "text/html": [
       "<div>\n",
       "<style scoped>\n",
       "    .dataframe tbody tr th:only-of-type {\n",
       "        vertical-align: middle;\n",
       "    }\n",
       "\n",
       "    .dataframe tbody tr th {\n",
       "        vertical-align: top;\n",
       "    }\n",
       "\n",
       "    .dataframe thead th {\n",
       "        text-align: right;\n",
       "    }\n",
       "</style>\n",
       "<table border=\"1\" class=\"dataframe\">\n",
       "  <thead>\n",
       "    <tr style=\"text-align: right;\">\n",
       "      <th></th>\n",
       "      <th>borough</th>\n",
       "      <th>pickups</th>\n",
       "      <th>spd</th>\n",
       "      <th>vsb</th>\n",
       "      <th>temp</th>\n",
       "      <th>dewp</th>\n",
       "      <th>slp</th>\n",
       "      <th>pcp01</th>\n",
       "      <th>pcp06</th>\n",
       "      <th>pcp24</th>\n",
       "      <th>sd</th>\n",
       "      <th>hday</th>\n",
       "      <th>start_year</th>\n",
       "      <th>start_month</th>\n",
       "      <th>start_day</th>\n",
       "      <th>week_day</th>\n",
       "      <th>start_hour</th>\n",
       "    </tr>\n",
       "  </thead>\n",
       "  <tbody>\n",
       "    <tr>\n",
       "      <th>0</th>\n",
       "      <td>Bronx</td>\n",
       "      <td>152</td>\n",
       "      <td>5.0</td>\n",
       "      <td>10.0</td>\n",
       "      <td>30.0</td>\n",
       "      <td>7.0</td>\n",
       "      <td>1023.5</td>\n",
       "      <td>0.0</td>\n",
       "      <td>0.0</td>\n",
       "      <td>0.0</td>\n",
       "      <td>0.0</td>\n",
       "      <td>Y</td>\n",
       "      <td>2015</td>\n",
       "      <td>January</td>\n",
       "      <td>1</td>\n",
       "      <td>Thursday</td>\n",
       "      <td>1</td>\n",
       "    </tr>\n",
       "    <tr>\n",
       "      <th>1</th>\n",
       "      <td>Brooklyn</td>\n",
       "      <td>1519</td>\n",
       "      <td>5.0</td>\n",
       "      <td>10.0</td>\n",
       "      <td>NaN</td>\n",
       "      <td>7.0</td>\n",
       "      <td>1023.5</td>\n",
       "      <td>0.0</td>\n",
       "      <td>0.0</td>\n",
       "      <td>0.0</td>\n",
       "      <td>0.0</td>\n",
       "      <td>Y</td>\n",
       "      <td>2015</td>\n",
       "      <td>January</td>\n",
       "      <td>1</td>\n",
       "      <td>Thursday</td>\n",
       "      <td>1</td>\n",
       "    </tr>\n",
       "    <tr>\n",
       "      <th>2</th>\n",
       "      <td>EWR</td>\n",
       "      <td>0</td>\n",
       "      <td>5.0</td>\n",
       "      <td>10.0</td>\n",
       "      <td>30.0</td>\n",
       "      <td>7.0</td>\n",
       "      <td>1023.5</td>\n",
       "      <td>0.0</td>\n",
       "      <td>0.0</td>\n",
       "      <td>0.0</td>\n",
       "      <td>0.0</td>\n",
       "      <td>Y</td>\n",
       "      <td>2015</td>\n",
       "      <td>January</td>\n",
       "      <td>1</td>\n",
       "      <td>Thursday</td>\n",
       "      <td>1</td>\n",
       "    </tr>\n",
       "  </tbody>\n",
       "</table>\n",
       "</div>"
      ],
      "text/plain": [
       "    borough  pickups  spd   vsb  temp  dewp     slp  pcp01  pcp06  pcp24   sd  \\\n",
       "0     Bronx      152  5.0  10.0  30.0   7.0  1023.5    0.0    0.0    0.0  0.0   \n",
       "1  Brooklyn     1519  5.0  10.0   NaN   7.0  1023.5    0.0    0.0    0.0  0.0   \n",
       "2       EWR        0  5.0  10.0  30.0   7.0  1023.5    0.0    0.0    0.0  0.0   \n",
       "\n",
       "  hday  start_year start_month  start_day  week_day  start_hour  \n",
       "0    Y        2015     January          1  Thursday           1  \n",
       "1    Y        2015     January          1  Thursday           1  \n",
       "2    Y        2015     January          1  Thursday           1  "
      ]
     },
     "execution_count": 24,
     "metadata": {},
     "output_type": "execute_result"
    }
   ],
   "source": [
    "# Verifying delete\n",
    "print(df.columns)\n",
    "df.head(3)"
   ]
  },
  {
   "cell_type": "code",
   "execution_count": 26,
   "metadata": {},
   "outputs": [
    {
     "data": {
      "text/html": [
       "<div>\n",
       "<style scoped>\n",
       "    .dataframe tbody tr th:only-of-type {\n",
       "        vertical-align: middle;\n",
       "    }\n",
       "\n",
       "    .dataframe tbody tr th {\n",
       "        vertical-align: top;\n",
       "    }\n",
       "\n",
       "    .dataframe thead th {\n",
       "        text-align: right;\n",
       "    }\n",
       "</style>\n",
       "<table border=\"1\" class=\"dataframe\">\n",
       "  <thead>\n",
       "    <tr style=\"text-align: right;\">\n",
       "      <th></th>\n",
       "      <th>count</th>\n",
       "      <th>unique</th>\n",
       "      <th>top</th>\n",
       "      <th>freq</th>\n",
       "      <th>mean</th>\n",
       "      <th>std</th>\n",
       "      <th>min</th>\n",
       "      <th>25%</th>\n",
       "      <th>50%</th>\n",
       "      <th>75%</th>\n",
       "      <th>max</th>\n",
       "    </tr>\n",
       "  </thead>\n",
       "  <tbody>\n",
       "    <tr>\n",
       "      <th>borough</th>\n",
       "      <td>26058</td>\n",
       "      <td>6</td>\n",
       "      <td>Bronx</td>\n",
       "      <td>4343</td>\n",
       "      <td>NaN</td>\n",
       "      <td>NaN</td>\n",
       "      <td>NaN</td>\n",
       "      <td>NaN</td>\n",
       "      <td>NaN</td>\n",
       "      <td>NaN</td>\n",
       "      <td>NaN</td>\n",
       "    </tr>\n",
       "    <tr>\n",
       "      <th>pickups</th>\n",
       "      <td>29101.0</td>\n",
       "      <td>NaN</td>\n",
       "      <td>NaN</td>\n",
       "      <td>NaN</td>\n",
       "      <td>490.215903</td>\n",
       "      <td>995.649536</td>\n",
       "      <td>0.0</td>\n",
       "      <td>1.0</td>\n",
       "      <td>54.0</td>\n",
       "      <td>449.0</td>\n",
       "      <td>7883.0</td>\n",
       "    </tr>\n",
       "    <tr>\n",
       "      <th>spd</th>\n",
       "      <td>29101.0</td>\n",
       "      <td>NaN</td>\n",
       "      <td>NaN</td>\n",
       "      <td>NaN</td>\n",
       "      <td>5.984924</td>\n",
       "      <td>3.699007</td>\n",
       "      <td>0.0</td>\n",
       "      <td>3.0</td>\n",
       "      <td>6.0</td>\n",
       "      <td>8.0</td>\n",
       "      <td>21.0</td>\n",
       "    </tr>\n",
       "    <tr>\n",
       "      <th>vsb</th>\n",
       "      <td>29101.0</td>\n",
       "      <td>NaN</td>\n",
       "      <td>NaN</td>\n",
       "      <td>NaN</td>\n",
       "      <td>8.818125</td>\n",
       "      <td>2.442897</td>\n",
       "      <td>0.0</td>\n",
       "      <td>9.1</td>\n",
       "      <td>10.0</td>\n",
       "      <td>10.0</td>\n",
       "      <td>10.0</td>\n",
       "    </tr>\n",
       "    <tr>\n",
       "      <th>temp</th>\n",
       "      <td>28742.0</td>\n",
       "      <td>NaN</td>\n",
       "      <td>NaN</td>\n",
       "      <td>NaN</td>\n",
       "      <td>47.900019</td>\n",
       "      <td>19.798783</td>\n",
       "      <td>2.0</td>\n",
       "      <td>32.0</td>\n",
       "      <td>46.5</td>\n",
       "      <td>65.0</td>\n",
       "      <td>89.0</td>\n",
       "    </tr>\n",
       "    <tr>\n",
       "      <th>dewp</th>\n",
       "      <td>29101.0</td>\n",
       "      <td>NaN</td>\n",
       "      <td>NaN</td>\n",
       "      <td>NaN</td>\n",
       "      <td>30.823065</td>\n",
       "      <td>21.283444</td>\n",
       "      <td>-16.0</td>\n",
       "      <td>14.0</td>\n",
       "      <td>30.0</td>\n",
       "      <td>50.0</td>\n",
       "      <td>73.0</td>\n",
       "    </tr>\n",
       "    <tr>\n",
       "      <th>slp</th>\n",
       "      <td>29101.0</td>\n",
       "      <td>NaN</td>\n",
       "      <td>NaN</td>\n",
       "      <td>NaN</td>\n",
       "      <td>1017.817938</td>\n",
       "      <td>7.768796</td>\n",
       "      <td>991.4</td>\n",
       "      <td>1012.5</td>\n",
       "      <td>1018.2</td>\n",
       "      <td>1022.9</td>\n",
       "      <td>1043.4</td>\n",
       "    </tr>\n",
       "    <tr>\n",
       "      <th>pcp01</th>\n",
       "      <td>29101.0</td>\n",
       "      <td>NaN</td>\n",
       "      <td>NaN</td>\n",
       "      <td>NaN</td>\n",
       "      <td>0.00383</td>\n",
       "      <td>0.018933</td>\n",
       "      <td>0.0</td>\n",
       "      <td>0.0</td>\n",
       "      <td>0.0</td>\n",
       "      <td>0.0</td>\n",
       "      <td>0.28</td>\n",
       "    </tr>\n",
       "    <tr>\n",
       "      <th>pcp06</th>\n",
       "      <td>29101.0</td>\n",
       "      <td>NaN</td>\n",
       "      <td>NaN</td>\n",
       "      <td>NaN</td>\n",
       "      <td>0.026129</td>\n",
       "      <td>0.093125</td>\n",
       "      <td>0.0</td>\n",
       "      <td>0.0</td>\n",
       "      <td>0.0</td>\n",
       "      <td>0.0</td>\n",
       "      <td>1.24</td>\n",
       "    </tr>\n",
       "    <tr>\n",
       "      <th>pcp24</th>\n",
       "      <td>29101.0</td>\n",
       "      <td>NaN</td>\n",
       "      <td>NaN</td>\n",
       "      <td>NaN</td>\n",
       "      <td>0.090464</td>\n",
       "      <td>0.219402</td>\n",
       "      <td>0.0</td>\n",
       "      <td>0.0</td>\n",
       "      <td>0.0</td>\n",
       "      <td>0.05</td>\n",
       "      <td>2.1</td>\n",
       "    </tr>\n",
       "    <tr>\n",
       "      <th>sd</th>\n",
       "      <td>29101.0</td>\n",
       "      <td>NaN</td>\n",
       "      <td>NaN</td>\n",
       "      <td>NaN</td>\n",
       "      <td>2.529169</td>\n",
       "      <td>4.520325</td>\n",
       "      <td>0.0</td>\n",
       "      <td>0.0</td>\n",
       "      <td>0.0</td>\n",
       "      <td>2.958333</td>\n",
       "      <td>19.0</td>\n",
       "    </tr>\n",
       "    <tr>\n",
       "      <th>hday</th>\n",
       "      <td>29101</td>\n",
       "      <td>2</td>\n",
       "      <td>N</td>\n",
       "      <td>27980</td>\n",
       "      <td>NaN</td>\n",
       "      <td>NaN</td>\n",
       "      <td>NaN</td>\n",
       "      <td>NaN</td>\n",
       "      <td>NaN</td>\n",
       "      <td>NaN</td>\n",
       "      <td>NaN</td>\n",
       "    </tr>\n",
       "    <tr>\n",
       "      <th>start_year</th>\n",
       "      <td>29101.0</td>\n",
       "      <td>NaN</td>\n",
       "      <td>NaN</td>\n",
       "      <td>NaN</td>\n",
       "      <td>2015.0</td>\n",
       "      <td>0.0</td>\n",
       "      <td>2015.0</td>\n",
       "      <td>2015.0</td>\n",
       "      <td>2015.0</td>\n",
       "      <td>2015.0</td>\n",
       "      <td>2015.0</td>\n",
       "    </tr>\n",
       "    <tr>\n",
       "      <th>start_month</th>\n",
       "      <td>29101</td>\n",
       "      <td>6</td>\n",
       "      <td>May</td>\n",
       "      <td>5058</td>\n",
       "      <td>NaN</td>\n",
       "      <td>NaN</td>\n",
       "      <td>NaN</td>\n",
       "      <td>NaN</td>\n",
       "      <td>NaN</td>\n",
       "      <td>NaN</td>\n",
       "      <td>NaN</td>\n",
       "    </tr>\n",
       "    <tr>\n",
       "      <th>start_day</th>\n",
       "      <td>29101.0</td>\n",
       "      <td>NaN</td>\n",
       "      <td>NaN</td>\n",
       "      <td>NaN</td>\n",
       "      <td>15.62314</td>\n",
       "      <td>8.72504</td>\n",
       "      <td>1.0</td>\n",
       "      <td>8.0</td>\n",
       "      <td>16.0</td>\n",
       "      <td>23.0</td>\n",
       "      <td>31.0</td>\n",
       "    </tr>\n",
       "    <tr>\n",
       "      <th>week_day</th>\n",
       "      <td>29101</td>\n",
       "      <td>7</td>\n",
       "      <td>Friday</td>\n",
       "      <td>4219</td>\n",
       "      <td>NaN</td>\n",
       "      <td>NaN</td>\n",
       "      <td>NaN</td>\n",
       "      <td>NaN</td>\n",
       "      <td>NaN</td>\n",
       "      <td>NaN</td>\n",
       "      <td>NaN</td>\n",
       "    </tr>\n",
       "    <tr>\n",
       "      <th>start_hour</th>\n",
       "      <td>29101.0</td>\n",
       "      <td>NaN</td>\n",
       "      <td>NaN</td>\n",
       "      <td>NaN</td>\n",
       "      <td>11.597574</td>\n",
       "      <td>6.907042</td>\n",
       "      <td>0.0</td>\n",
       "      <td>6.0</td>\n",
       "      <td>12.0</td>\n",
       "      <td>18.0</td>\n",
       "      <td>23.0</td>\n",
       "    </tr>\n",
       "  </tbody>\n",
       "</table>\n",
       "</div>"
      ],
      "text/plain": [
       "               count unique     top   freq         mean         std     min  \\\n",
       "borough        26058      6   Bronx   4343          NaN         NaN     NaN   \n",
       "pickups      29101.0    NaN     NaN    NaN   490.215903  995.649536     0.0   \n",
       "spd          29101.0    NaN     NaN    NaN     5.984924    3.699007     0.0   \n",
       "vsb          29101.0    NaN     NaN    NaN     8.818125    2.442897     0.0   \n",
       "temp         28742.0    NaN     NaN    NaN    47.900019   19.798783     2.0   \n",
       "dewp         29101.0    NaN     NaN    NaN    30.823065   21.283444   -16.0   \n",
       "slp          29101.0    NaN     NaN    NaN  1017.817938    7.768796   991.4   \n",
       "pcp01        29101.0    NaN     NaN    NaN      0.00383    0.018933     0.0   \n",
       "pcp06        29101.0    NaN     NaN    NaN     0.026129    0.093125     0.0   \n",
       "pcp24        29101.0    NaN     NaN    NaN     0.090464    0.219402     0.0   \n",
       "sd           29101.0    NaN     NaN    NaN     2.529169    4.520325     0.0   \n",
       "hday           29101      2       N  27980          NaN         NaN     NaN   \n",
       "start_year   29101.0    NaN     NaN    NaN       2015.0         0.0  2015.0   \n",
       "start_month    29101      6     May   5058          NaN         NaN     NaN   \n",
       "start_day    29101.0    NaN     NaN    NaN     15.62314     8.72504     1.0   \n",
       "week_day       29101      7  Friday   4219          NaN         NaN     NaN   \n",
       "start_hour   29101.0    NaN     NaN    NaN    11.597574    6.907042     0.0   \n",
       "\n",
       "                25%     50%       75%     max  \n",
       "borough         NaN     NaN       NaN     NaN  \n",
       "pickups         1.0    54.0     449.0  7883.0  \n",
       "spd             3.0     6.0       8.0    21.0  \n",
       "vsb             9.1    10.0      10.0    10.0  \n",
       "temp           32.0    46.5      65.0    89.0  \n",
       "dewp           14.0    30.0      50.0    73.0  \n",
       "slp          1012.5  1018.2    1022.9  1043.4  \n",
       "pcp01           0.0     0.0       0.0    0.28  \n",
       "pcp06           0.0     0.0       0.0    1.24  \n",
       "pcp24           0.0     0.0      0.05     2.1  \n",
       "sd              0.0     0.0  2.958333    19.0  \n",
       "hday            NaN     NaN       NaN     NaN  \n",
       "start_year   2015.0  2015.0    2015.0  2015.0  \n",
       "start_month     NaN     NaN       NaN     NaN  \n",
       "start_day       8.0    16.0      23.0    31.0  \n",
       "week_day        NaN     NaN       NaN     NaN  \n",
       "start_hour      6.0    12.0      18.0    23.0  "
      ]
     },
     "execution_count": 26,
     "metadata": {},
     "output_type": "execute_result"
    }
   ],
   "source": [
    "df.describe(include = 'all').T"
   ]
  },
  {
   "cell_type": "markdown",
   "metadata": {},
   "source": [
    "As we can see the dataset has for :\n",
    "6 months\n",
    "7 days of the week\n",
    "1 year i.e. 2015\n",
    "and \n",
    "over 75% of the data is for after 6 pm"
   ]
  },
  {
   "cell_type": "markdown",
   "metadata": {},
   "source": [
    "Missing Values\n",
    "* borough column\n",
    "* data column"
   ]
  },
  {
   "cell_type": "code",
   "execution_count": 30,
   "metadata": {},
   "outputs": [
    {
     "data": {
      "text/plain": [
       "borough        3043\n",
       "pickups           0\n",
       "spd               0\n",
       "vsb               0\n",
       "temp            359\n",
       "dewp              0\n",
       "slp               0\n",
       "pcp01             0\n",
       "pcp06             0\n",
       "pcp24             0\n",
       "sd                0\n",
       "hday              0\n",
       "start_year        0\n",
       "start_month       0\n",
       "start_day         0\n",
       "week_day          0\n",
       "start_hour        0\n",
       "dtype: int64"
      ]
     },
     "execution_count": 30,
     "metadata": {},
     "output_type": "execute_result"
    }
   ],
   "source": [
    "# Counting the null values in each column\n",
    "df.isnull().sum()"
   ]
  },
  {
   "cell_type": "code",
   "execution_count": 32,
   "metadata": {},
   "outputs": [
    {
     "data": {
      "text/plain": [
       "Bronx            0.149239\n",
       "Brooklyn         0.149239\n",
       "EWR              0.149239\n",
       "Manhattan        0.149239\n",
       "Queens           0.149239\n",
       "Staten Island    0.149239\n",
       "NaN              0.104567\n",
       "Name: borough, dtype: float64"
      ]
     },
     "execution_count": 32,
     "metadata": {},
     "output_type": "execute_result"
    }
   ],
   "source": [
    "# Detail analysis of borough column\n",
    "df['borough'].value_counts(normalize=True, dropna=False)"
   ]
  },
  {
   "cell_type": "markdown",
   "metadata": {},
   "source": [
    "Observations:\n",
    "There is no mode value.\n",
    "The missing data amounts to 10% of the dataset and the other categories each are around 15%, hence we cannot drop these instances.\n",
    "Instead we are going to assign it to a new category: `Unknown`"
   ]
  },
  {
   "cell_type": "code",
   "execution_count": 44,
   "metadata": {},
   "outputs": [
    {
     "name": "stdout",
     "output_type": "stream",
     "text": [
      "\n",
      "Label Distribution:\n",
      " Bronx            4343\n",
      "Brooklyn         4343\n",
      "EWR              4343\n",
      "Manhattan        4343\n",
      "Queens           4343\n",
      "Staten Island    4343\n",
      "Unknown          3043\n",
      "Name: borough, dtype: int64\n",
      "\n",
      "Labels in the column 'borough':  ['Bronx' 'Brooklyn' 'EWR' 'Manhattan' 'Queens' 'Staten Island' 'Unknown']\n"
     ]
    }
   ],
   "source": [
    "df['borough'].fillna('Unknown', inplace=True)\n",
    "# Checking the label distribution in the column again\n",
    "print('\\nLabel Distribution:\\n', df['borough'].value_counts())\n",
    "print('\\nLabels in the column \\'borough\\': ', df['borough'].unique())"
   ]
  },
  {
   "cell_type": "markdown",
   "metadata": {},
   "source": [
    "Analysing `temp` column:\n",
    "Since its a numerical column we can use mean or mode to fill in the missing values"
   ]
  },
  {
   "cell_type": "code",
   "execution_count": 50,
   "metadata": {},
   "outputs": [
    {
     "data": {
      "text/html": [
       "<div>\n",
       "<style scoped>\n",
       "    .dataframe tbody tr th:only-of-type {\n",
       "        vertical-align: middle;\n",
       "    }\n",
       "\n",
       "    .dataframe tbody tr th {\n",
       "        vertical-align: top;\n",
       "    }\n",
       "\n",
       "    .dataframe thead th {\n",
       "        text-align: right;\n",
       "    }\n",
       "</style>\n",
       "<table border=\"1\" class=\"dataframe\">\n",
       "  <thead>\n",
       "    <tr style=\"text-align: right;\">\n",
       "      <th></th>\n",
       "      <th>borough</th>\n",
       "      <th>pickups</th>\n",
       "      <th>spd</th>\n",
       "      <th>vsb</th>\n",
       "      <th>temp</th>\n",
       "      <th>dewp</th>\n",
       "      <th>slp</th>\n",
       "      <th>pcp01</th>\n",
       "      <th>pcp06</th>\n",
       "      <th>pcp24</th>\n",
       "      <th>sd</th>\n",
       "      <th>hday</th>\n",
       "      <th>start_year</th>\n",
       "      <th>start_month</th>\n",
       "      <th>start_day</th>\n",
       "      <th>week_day</th>\n",
       "      <th>start_hour</th>\n",
       "    </tr>\n",
       "  </thead>\n",
       "  <tbody>\n",
       "    <tr>\n",
       "      <th>1</th>\n",
       "      <td>Brooklyn</td>\n",
       "      <td>1519</td>\n",
       "      <td>5.0</td>\n",
       "      <td>10.0</td>\n",
       "      <td>NaN</td>\n",
       "      <td>7.0</td>\n",
       "      <td>1023.5</td>\n",
       "      <td>0.0</td>\n",
       "      <td>0.0</td>\n",
       "      <td>0.0</td>\n",
       "      <td>0.0</td>\n",
       "      <td>Y</td>\n",
       "      <td>2015</td>\n",
       "      <td>January</td>\n",
       "      <td>1</td>\n",
       "      <td>Thursday</td>\n",
       "      <td>1</td>\n",
       "    </tr>\n",
       "    <tr>\n",
       "      <th>8</th>\n",
       "      <td>Brooklyn</td>\n",
       "      <td>1229</td>\n",
       "      <td>3.0</td>\n",
       "      <td>10.0</td>\n",
       "      <td>NaN</td>\n",
       "      <td>6.0</td>\n",
       "      <td>1023.0</td>\n",
       "      <td>0.0</td>\n",
       "      <td>0.0</td>\n",
       "      <td>0.0</td>\n",
       "      <td>0.0</td>\n",
       "      <td>Y</td>\n",
       "      <td>2015</td>\n",
       "      <td>January</td>\n",
       "      <td>1</td>\n",
       "      <td>Thursday</td>\n",
       "      <td>2</td>\n",
       "    </tr>\n",
       "    <tr>\n",
       "      <th>15</th>\n",
       "      <td>Brooklyn</td>\n",
       "      <td>1601</td>\n",
       "      <td>5.0</td>\n",
       "      <td>10.0</td>\n",
       "      <td>NaN</td>\n",
       "      <td>8.0</td>\n",
       "      <td>1022.3</td>\n",
       "      <td>0.0</td>\n",
       "      <td>0.0</td>\n",
       "      <td>0.0</td>\n",
       "      <td>0.0</td>\n",
       "      <td>Y</td>\n",
       "      <td>2015</td>\n",
       "      <td>January</td>\n",
       "      <td>1</td>\n",
       "      <td>Thursday</td>\n",
       "      <td>3</td>\n",
       "    </tr>\n",
       "    <tr>\n",
       "      <th>22</th>\n",
       "      <td>Brooklyn</td>\n",
       "      <td>1390</td>\n",
       "      <td>5.0</td>\n",
       "      <td>10.0</td>\n",
       "      <td>NaN</td>\n",
       "      <td>9.0</td>\n",
       "      <td>1022.0</td>\n",
       "      <td>0.0</td>\n",
       "      <td>0.0</td>\n",
       "      <td>0.0</td>\n",
       "      <td>0.0</td>\n",
       "      <td>Y</td>\n",
       "      <td>2015</td>\n",
       "      <td>January</td>\n",
       "      <td>1</td>\n",
       "      <td>Thursday</td>\n",
       "      <td>4</td>\n",
       "    </tr>\n",
       "    <tr>\n",
       "      <th>29</th>\n",
       "      <td>Brooklyn</td>\n",
       "      <td>759</td>\n",
       "      <td>5.0</td>\n",
       "      <td>10.0</td>\n",
       "      <td>NaN</td>\n",
       "      <td>9.0</td>\n",
       "      <td>1021.8</td>\n",
       "      <td>0.0</td>\n",
       "      <td>0.0</td>\n",
       "      <td>0.0</td>\n",
       "      <td>0.0</td>\n",
       "      <td>Y</td>\n",
       "      <td>2015</td>\n",
       "      <td>January</td>\n",
       "      <td>1</td>\n",
       "      <td>Thursday</td>\n",
       "      <td>5</td>\n",
       "    </tr>\n",
       "    <tr>\n",
       "      <th>...</th>\n",
       "      <td>...</td>\n",
       "      <td>...</td>\n",
       "      <td>...</td>\n",
       "      <td>...</td>\n",
       "      <td>...</td>\n",
       "      <td>...</td>\n",
       "      <td>...</td>\n",
       "      <td>...</td>\n",
       "      <td>...</td>\n",
       "      <td>...</td>\n",
       "      <td>...</td>\n",
       "      <td>...</td>\n",
       "      <td>...</td>\n",
       "      <td>...</td>\n",
       "      <td>...</td>\n",
       "      <td>...</td>\n",
       "      <td>...</td>\n",
       "    </tr>\n",
       "    <tr>\n",
       "      <th>2334</th>\n",
       "      <td>Brooklyn</td>\n",
       "      <td>594</td>\n",
       "      <td>5.0</td>\n",
       "      <td>10.0</td>\n",
       "      <td>NaN</td>\n",
       "      <td>13.0</td>\n",
       "      <td>1016.2</td>\n",
       "      <td>0.0</td>\n",
       "      <td>0.0</td>\n",
       "      <td>0.0</td>\n",
       "      <td>0.0</td>\n",
       "      <td>N</td>\n",
       "      <td>2015</td>\n",
       "      <td>January</td>\n",
       "      <td>15</td>\n",
       "      <td>Thursday</td>\n",
       "      <td>19</td>\n",
       "    </tr>\n",
       "    <tr>\n",
       "      <th>2340</th>\n",
       "      <td>Brooklyn</td>\n",
       "      <td>620</td>\n",
       "      <td>5.0</td>\n",
       "      <td>10.0</td>\n",
       "      <td>NaN</td>\n",
       "      <td>13.0</td>\n",
       "      <td>1015.5</td>\n",
       "      <td>0.0</td>\n",
       "      <td>0.0</td>\n",
       "      <td>0.0</td>\n",
       "      <td>0.0</td>\n",
       "      <td>N</td>\n",
       "      <td>2015</td>\n",
       "      <td>January</td>\n",
       "      <td>15</td>\n",
       "      <td>Thursday</td>\n",
       "      <td>20</td>\n",
       "    </tr>\n",
       "    <tr>\n",
       "      <th>2347</th>\n",
       "      <td>Brooklyn</td>\n",
       "      <td>607</td>\n",
       "      <td>3.0</td>\n",
       "      <td>10.0</td>\n",
       "      <td>NaN</td>\n",
       "      <td>14.0</td>\n",
       "      <td>1015.4</td>\n",
       "      <td>0.0</td>\n",
       "      <td>0.0</td>\n",
       "      <td>0.0</td>\n",
       "      <td>0.0</td>\n",
       "      <td>N</td>\n",
       "      <td>2015</td>\n",
       "      <td>January</td>\n",
       "      <td>15</td>\n",
       "      <td>Thursday</td>\n",
       "      <td>21</td>\n",
       "    </tr>\n",
       "    <tr>\n",
       "      <th>2354</th>\n",
       "      <td>Brooklyn</td>\n",
       "      <td>648</td>\n",
       "      <td>9.0</td>\n",
       "      <td>10.0</td>\n",
       "      <td>NaN</td>\n",
       "      <td>14.0</td>\n",
       "      <td>1015.4</td>\n",
       "      <td>0.0</td>\n",
       "      <td>0.0</td>\n",
       "      <td>0.0</td>\n",
       "      <td>0.0</td>\n",
       "      <td>N</td>\n",
       "      <td>2015</td>\n",
       "      <td>January</td>\n",
       "      <td>15</td>\n",
       "      <td>Thursday</td>\n",
       "      <td>22</td>\n",
       "    </tr>\n",
       "    <tr>\n",
       "      <th>2361</th>\n",
       "      <td>Brooklyn</td>\n",
       "      <td>602</td>\n",
       "      <td>5.0</td>\n",
       "      <td>10.0</td>\n",
       "      <td>NaN</td>\n",
       "      <td>16.0</td>\n",
       "      <td>1015.4</td>\n",
       "      <td>0.0</td>\n",
       "      <td>0.0</td>\n",
       "      <td>0.0</td>\n",
       "      <td>0.0</td>\n",
       "      <td>N</td>\n",
       "      <td>2015</td>\n",
       "      <td>January</td>\n",
       "      <td>15</td>\n",
       "      <td>Thursday</td>\n",
       "      <td>23</td>\n",
       "    </tr>\n",
       "  </tbody>\n",
       "</table>\n",
       "<p>359 rows × 17 columns</p>\n",
       "</div>"
      ],
      "text/plain": [
       "       borough  pickups  spd   vsb  temp  dewp     slp  pcp01  pcp06  pcp24  \\\n",
       "1     Brooklyn     1519  5.0  10.0   NaN   7.0  1023.5    0.0    0.0    0.0   \n",
       "8     Brooklyn     1229  3.0  10.0   NaN   6.0  1023.0    0.0    0.0    0.0   \n",
       "15    Brooklyn     1601  5.0  10.0   NaN   8.0  1022.3    0.0    0.0    0.0   \n",
       "22    Brooklyn     1390  5.0  10.0   NaN   9.0  1022.0    0.0    0.0    0.0   \n",
       "29    Brooklyn      759  5.0  10.0   NaN   9.0  1021.8    0.0    0.0    0.0   \n",
       "...        ...      ...  ...   ...   ...   ...     ...    ...    ...    ...   \n",
       "2334  Brooklyn      594  5.0  10.0   NaN  13.0  1016.2    0.0    0.0    0.0   \n",
       "2340  Brooklyn      620  5.0  10.0   NaN  13.0  1015.5    0.0    0.0    0.0   \n",
       "2347  Brooklyn      607  3.0  10.0   NaN  14.0  1015.4    0.0    0.0    0.0   \n",
       "2354  Brooklyn      648  9.0  10.0   NaN  14.0  1015.4    0.0    0.0    0.0   \n",
       "2361  Brooklyn      602  5.0  10.0   NaN  16.0  1015.4    0.0    0.0    0.0   \n",
       "\n",
       "       sd hday  start_year start_month  start_day  week_day  start_hour  \n",
       "1     0.0    Y        2015     January          1  Thursday           1  \n",
       "8     0.0    Y        2015     January          1  Thursday           2  \n",
       "15    0.0    Y        2015     January          1  Thursday           3  \n",
       "22    0.0    Y        2015     January          1  Thursday           4  \n",
       "29    0.0    Y        2015     January          1  Thursday           5  \n",
       "...   ...  ...         ...         ...        ...       ...         ...  \n",
       "2334  0.0    N        2015     January         15  Thursday          19  \n",
       "2340  0.0    N        2015     January         15  Thursday          20  \n",
       "2347  0.0    N        2015     January         15  Thursday          21  \n",
       "2354  0.0    N        2015     January         15  Thursday          22  \n",
       "2361  0.0    N        2015     January         15  Thursday          23  \n",
       "\n",
       "[359 rows x 17 columns]"
      ]
     },
     "execution_count": 50,
     "metadata": {},
     "output_type": "execute_result"
    }
   ],
   "source": [
    "df.loc[df['temp'].isnull()==True]"
   ]
  },
  {
   "cell_type": "markdown",
   "metadata": {},
   "source": [
    "As can be observed all the missing values in temp belong to the borough `Brooklyn` and start_month `January`. Lets confirm that."
   ]
  },
  {
   "cell_type": "code",
   "execution_count": 68,
   "metadata": {},
   "outputs": [
    {
     "name": "stdout",
     "output_type": "stream",
     "text": [
      "Brooklyn    359\n",
      "Name: borough, dtype: int64\n",
      "January    359\n",
      "Name: start_month, dtype: int64\n"
     ]
    }
   ],
   "source": [
    "print(df.loc[df['temp'].isnull()==True]['borough'].value_counts())\n",
    "print(df.loc[df['temp'].isnull()==True]['start_month'].value_counts())"
   ]
  },
  {
   "cell_type": "markdown",
   "metadata": {},
   "source": [
    "Now looking in detail how many of the rows with values `Brooklyn` as borough and start_month as `January` have non null values"
   ]
  },
  {
   "cell_type": "code",
   "execution_count": null,
   "metadata": {},
   "outputs": [],
   "source": []
  },
  {
   "cell_type": "code",
   "execution_count": 47,
   "metadata": {},
   "outputs": [
    {
     "data": {
      "text/plain": [
       "22    1237\n",
       "9     1236\n",
       "19    1233\n",
       "20    1233\n",
       "7     1232\n",
       "21    1230\n",
       "8     1229\n",
       "17    1228\n",
       "16    1226\n",
       "10    1225\n",
       "13    1225\n",
       "18    1223\n",
       "23    1223\n",
       "15    1223\n",
       "12    1216\n",
       "14    1216\n",
       "11    1210\n",
       "0     1205\n",
       "6     1200\n",
       "1     1189\n",
       "2     1170\n",
       "5     1170\n",
       "4     1164\n",
       "3     1158\n",
       "Name: start_hour, dtype: int64"
      ]
     },
     "execution_count": 47,
     "metadata": {},
     "output_type": "execute_result"
    }
   ],
   "source": [
    "df['start_hour'].value_counts()"
   ]
  }
 ],
 "metadata": {
  "kernelspec": {
   "display_name": "Python 3.9.0 ('.myenv': venv)",
   "language": "python",
   "name": "python3"
  },
  "language_info": {
   "codemirror_mode": {
    "name": "ipython",
    "version": 3
   },
   "file_extension": ".py",
   "mimetype": "text/x-python",
   "name": "python",
   "nbconvert_exporter": "python",
   "pygments_lexer": "ipython3",
   "version": "3.9.0"
  },
  "orig_nbformat": 4,
  "vscode": {
   "interpreter": {
    "hash": "026b2cd9222baf3797d867d19cc66de3417f938f0ec7d86e3b9028b103bbcd0d"
   }
  }
 },
 "nbformat": 4,
 "nbformat_minor": 2
}
