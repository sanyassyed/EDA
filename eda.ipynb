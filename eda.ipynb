{
 "cells": [
  {
   "cell_type": "markdown",
   "metadata": {},
   "source": [
    "Exploratory Analysis For Uber Dataset\n",
    "#pip install package_name\n",
    "#pip freeze"
   ]
  },
  {
   "cell_type": "code",
   "execution_count": 1,
   "metadata": {},
   "outputs": [],
   "source": [
    "# importing basic packages\n",
    "import numpy as np\n",
    "import pandas as pd\n",
    "import os"
   ]
  },
  {
   "cell_type": "code",
   "execution_count": 2,
   "metadata": {},
   "outputs": [],
   "source": [
    "# Setting the directory paths\n",
    "WORKING_DIR = os.getcwd()\n",
    "data_file_name = 'Uber_Data.csv'\n",
    "DATA_DIR = 'data'\n",
    "DATA = os.path.join(WORKING_DIR, DATA_DIR, data_file_name)"
   ]
  },
  {
   "cell_type": "code",
   "execution_count": 3,
   "metadata": {},
   "outputs": [],
   "source": [
    "# Loading the dataset and making a copy\n",
    "df_orig = pd.read_csv(DATA)\n",
    "df = df_orig"
   ]
  },
  {
   "cell_type": "code",
   "execution_count": 5,
   "metadata": {},
   "outputs": [
    {
     "name": "stdout",
     "output_type": "stream",
     "text": [
      "          pickup_dt    borough  pickups  spd   vsb  temp  dewp     slp  pcp01  \\\n",
      "0  01-01-2015 01:00      Bronx      152  5.0  10.0  30.0   7.0  1023.5    0.0   \n",
      "1  01-01-2015 01:00   Brooklyn     1519  5.0  10.0   NaN   7.0  1023.5    0.0   \n",
      "2  01-01-2015 01:00        EWR        0  5.0  10.0  30.0   7.0  1023.5    0.0   \n",
      "3  01-01-2015 01:00  Manhattan     5258  5.0  10.0  30.0   7.0  1023.5    0.0   \n",
      "4  01-01-2015 01:00     Queens      405  5.0  10.0  30.0   7.0  1023.5    0.0   \n",
      "\n",
      "   pcp06  pcp24   sd hday  \n",
      "0    0.0    0.0  0.0    Y  \n",
      "1    0.0    0.0  0.0    Y  \n",
      "2    0.0    0.0  0.0    Y  \n",
      "3    0.0    0.0  0.0    Y  \n",
      "4    0.0    0.0  0.0    Y  \n"
     ]
    }
   ],
   "source": [
    "# look at top 5 observations\n",
    "print(df.head())"
   ]
  },
  {
   "cell_type": "markdown",
   "metadata": {},
   "source": [
    "The \n",
    "* `pickup_dt column` consists of date and time of pickup\n",
    "* `borough column` contains the names of the boroughs in New York where pickup was made\n",
    "* `pickups` is the number of pickups done in the given borough for the given time\n",
    "* `spd`, `vsb`, `temp`, `dewp`, `slp` and other columns are weather related data\n",
    "* `hday` represents if the day was a holiday or not [Y: Holiday, N: Not a holiday]\n"
   ]
  },
  {
   "cell_type": "code",
   "execution_count": 4,
   "metadata": {},
   "outputs": [
    {
     "name": "stdout",
     "output_type": "stream",
     "text": [
      "Total Rows: 29101\n",
      "Total Columns/Features: 13\n"
     ]
    }
   ],
   "source": [
    "#Checking the rows and columns\n",
    "rows, columns = df.shape\n",
    "print(f'Total Rows: {rows}')\n",
    "print(f'Total Columns/Features: {columns}')"
   ]
  },
  {
   "cell_type": "code",
   "execution_count": 6,
   "metadata": {},
   "outputs": [
    {
     "name": "stdout",
     "output_type": "stream",
     "text": [
      "<class 'pandas.core.frame.DataFrame'>\n",
      "RangeIndex: 29101 entries, 0 to 29100\n",
      "Data columns (total 13 columns):\n",
      " #   Column     Non-Null Count  Dtype  \n",
      "---  ------     --------------  -----  \n",
      " 0   pickup_dt  29101 non-null  object \n",
      " 1   borough    26058 non-null  object \n",
      " 2   pickups    29101 non-null  int64  \n",
      " 3   spd        29101 non-null  float64\n",
      " 4   vsb        29101 non-null  float64\n",
      " 5   temp       28742 non-null  float64\n",
      " 6   dewp       29101 non-null  float64\n",
      " 7   slp        29101 non-null  float64\n",
      " 8   pcp01      29101 non-null  float64\n",
      " 9   pcp06      29101 non-null  float64\n",
      " 10  pcp24      29101 non-null  float64\n",
      " 11  sd         29101 non-null  float64\n",
      " 12  hday       29101 non-null  object \n",
      "dtypes: float64(9), int64(1), object(3)\n",
      "memory usage: 2.9+ MB\n",
      "None\n"
     ]
    }
   ],
   "source": [
    "# look at column details\n",
    "print(df.info())"
   ]
  },
  {
   "cell_type": "markdown",
   "metadata": {},
   "source": [
    "The dataset consists of 10 numerical columns, three object columns\n",
    "The column `pickup_dt` data type should be chaged to date-time format\n",
    "The columns `borough` & `hday` data type should be changed to categorical\n",
    "Each column has 29101 observations and some columns are missing data - `borough` and `temp`"
   ]
  },
  {
   "cell_type": "code",
   "execution_count": 7,
   "metadata": {},
   "outputs": [
    {
     "name": "stdout",
     "output_type": "stream",
     "text": [
      "           count         mean         std    min     25%     50%          75%  \\\n",
      "pickups  29101.0   490.215903  995.649536    0.0     1.0    54.0   449.000000   \n",
      "spd      29101.0     5.984924    3.699007    0.0     3.0     6.0     8.000000   \n",
      "vsb      29101.0     8.818125    2.442897    0.0     9.1    10.0    10.000000   \n",
      "temp     28742.0    47.900019   19.798783    2.0    32.0    46.5    65.000000   \n",
      "dewp     29101.0    30.823065   21.283444  -16.0    14.0    30.0    50.000000   \n",
      "slp      29101.0  1017.817938    7.768796  991.4  1012.5  1018.2  1022.900000   \n",
      "pcp01    29101.0     0.003830    0.018933    0.0     0.0     0.0     0.000000   \n",
      "pcp06    29101.0     0.026129    0.093125    0.0     0.0     0.0     0.000000   \n",
      "pcp24    29101.0     0.090464    0.219402    0.0     0.0     0.0     0.050000   \n",
      "sd       29101.0     2.529169    4.520325    0.0     0.0     0.0     2.958333   \n",
      "\n",
      "             max  \n",
      "pickups  7883.00  \n",
      "spd        21.00  \n",
      "vsb        10.00  \n",
      "temp       89.00  \n",
      "dewp       73.00  \n",
      "slp      1043.40  \n",
      "pcp01       0.28  \n",
      "pcp06       1.24  \n",
      "pcp24       2.10  \n",
      "sd         19.00  \n"
     ]
    }
   ],
   "source": [
    "# Statistical summary\n",
    "print(df.describe().T)"
   ]
  },
  {
   "cell_type": "markdown",
   "metadata": {},
   "source": [
    "In the `pickup_dt` & `sd` column the 3rd and max value difference is large\n",
    "The temp data range is wide hence the data covers different weather ranges / seasons\n"
   ]
  },
  {
   "cell_type": "code",
   "execution_count": 12,
   "metadata": {},
   "outputs": [
    {
     "name": "stdout",
     "output_type": "stream",
     "text": [
      "['Bronx' 'Brooklyn' 'EWR' 'Manhattan' 'Queens' 'Staten Island' nan]\n",
      "Bronx            4343\n",
      "Brooklyn         4343\n",
      "EWR              4343\n",
      "Manhattan        4343\n",
      "Queens           4343\n",
      "Staten Island    4343\n",
      "Name: borough, dtype: int64\n"
     ]
    }
   ],
   "source": [
    "# Looking at unique categories in columns\n",
    "print(df['borough'].unique())\n",
    "print(df['borough'].value_counts())"
   ]
  },
  {
   "cell_type": "markdown",
   "metadata": {},
   "source": [
    "There are six boroughs in the dataset and there are equal number of samples for each type"
   ]
  },
  {
   "cell_type": "code",
   "execution_count": 10,
   "metadata": {},
   "outputs": [
    {
     "name": "stdout",
     "output_type": "stream",
     "text": [
      "N    0.961479\n",
      "Y    0.038521\n",
      "Name: hday, dtype: float64\n"
     ]
    }
   ],
   "source": [
    "# Label Distribution in %\n",
    "print(df['hday'].value_counts(normalize=True))"
   ]
  },
  {
   "cell_type": "markdown",
   "metadata": {},
   "source": [
    "Over 96% of the data has the label N\n",
    "And .03% of data has label Y as the number of holidays in a year are few"
   ]
  },
  {
   "cell_type": "code",
   "execution_count": 13,
   "metadata": {},
   "outputs": [],
   "source": [
    "# Change datatype of `pickup_dt` column to date-time format\n",
    "df['pickup_dt'] = pd.to_datetime(df['pickup_dt'],format= \"%d-%m-%Y %H:%M\")"
   ]
  },
  {
   "cell_type": "code",
   "execution_count": 15,
   "metadata": {},
   "outputs": [
    {
     "name": "stdout",
     "output_type": "stream",
     "text": [
      "Data type of pickup_dts column is: datetime64[ns]\n"
     ]
    }
   ],
   "source": [
    "# Cheking the updated datatype of the pickup_dt column\n",
    "print(f\"Data type of pickup_dts column is: {df.dtypes['pickup_dt']}\")"
   ]
  },
  {
   "cell_type": "code",
   "execution_count": 17,
   "metadata": {},
   "outputs": [
    {
     "data": {
      "text/plain": [
       "Timestamp('2015-01-01 01:00:00')"
      ]
     },
     "execution_count": 17,
     "metadata": {},
     "output_type": "execute_result"
    }
   ],
   "source": [
    "# Exploring date column\n",
    "# Earliest date\n",
    "df['pickup_dt'].min()"
   ]
  },
  {
   "cell_type": "code",
   "execution_count": 18,
   "metadata": {},
   "outputs": [
    {
     "data": {
      "text/plain": [
       "Timestamp('2015-06-30 23:00:00')"
      ]
     },
     "execution_count": 18,
     "metadata": {},
     "output_type": "execute_result"
    }
   ],
   "source": [
    "# Latest date\n",
    "df['pickup_dt'].max()"
   ]
  },
  {
   "cell_type": "markdown",
   "metadata": {},
   "source": [
    "The dataset contains data over six months starting January 1st to June 30th for the year 2015 which is the Winter and Spring season hence the temp column has the range of 2F to 89F\n",
    " "
   ]
  },
  {
   "cell_type": "code",
   "execution_count": null,
   "metadata": {},
   "outputs": [],
   "source": []
  }
 ],
 "metadata": {
  "kernelspec": {
   "display_name": "Python 3.9.0 ('.myenv': venv)",
   "language": "python",
   "name": "python3"
  },
  "language_info": {
   "codemirror_mode": {
    "name": "ipython",
    "version": 3
   },
   "file_extension": ".py",
   "mimetype": "text/x-python",
   "name": "python",
   "nbconvert_exporter": "python",
   "pygments_lexer": "ipython3",
   "version": "3.9.0"
  },
  "orig_nbformat": 4,
  "vscode": {
   "interpreter": {
    "hash": "026b2cd9222baf3797d867d19cc66de3417f938f0ec7d86e3b9028b103bbcd0d"
   }
  }
 },
 "nbformat": 4,
 "nbformat_minor": 2
}
